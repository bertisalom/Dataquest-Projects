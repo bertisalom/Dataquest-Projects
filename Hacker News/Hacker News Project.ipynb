{
 "cells": [
  {
   "cell_type": "markdown",
   "metadata": {},
   "source": [
    "# Exploring Hacker News Post"
   ]
  },
  {
   "cell_type": "markdown",
   "metadata": {},
   "source": [
    "In this project;\n",
    "\n",
    "I will compare 3 types of posts from [Hacker News](https://news.ycombinator.com), a popular technology website where users ask questions, share information etc.\n",
    "\n",
    "In the analysis part,  data (posts) will be analyzed in 3 three divided groups based on their type;\n",
    "\n",
    "1. __Posts to ask questions__<br>\n",
    "Users submit the post starting with Ask HN<br>\n",
    "<br>\n",
    "2. __Posts to show something interesting__<br>\n",
    "Users submit the post starting with Show HN<br>\n",
    "<br>   \n",
    "3. __Other Posts__<br>\n",
    "The posts other than first two groups<br>\n",
    "    \n",
    "___I'll specifically compare these three types of posts to determine the following:___\n",
    "\n",
    "- If show, ask or other posts receive more comments/points on average?\n",
    "- If posts created at a certain time are more likely to receive more comments/points?\n",
    "- What is the type of top 10/50/100/1000 post receiving the most comments/points?\n",
    "\n",
    "According to the data set documentation, the timezone used is Eastern Time in the US. So, we could also write 15:00 as 3:00 pm est."
   ]
  },
  {
   "cell_type": "markdown",
   "metadata": {},
   "source": [
    "# Exploration of Data"
   ]
  },
  {
   "cell_type": "markdown",
   "metadata": {},
   "source": [
    "First, I'll read in the data and find the size of the data."
   ]
  },
  {
   "cell_type": "code",
   "execution_count": 1,
   "metadata": {
    "scrolled": false
   },
   "outputs": [
    {
     "data": {
      "text/html": [
       "<div>\n",
       "<style scoped>\n",
       "    .dataframe tbody tr th:only-of-type {\n",
       "        vertical-align: middle;\n",
       "    }\n",
       "\n",
       "    .dataframe tbody tr th {\n",
       "        vertical-align: top;\n",
       "    }\n",
       "\n",
       "    .dataframe thead th {\n",
       "        text-align: right;\n",
       "    }\n",
       "</style>\n",
       "<table border=\"1\" class=\"dataframe\">\n",
       "  <thead>\n",
       "    <tr style=\"text-align: right;\">\n",
       "      <th></th>\n",
       "      <th>id</th>\n",
       "      <th>title</th>\n",
       "      <th>url</th>\n",
       "      <th>num_points</th>\n",
       "      <th>num_comments</th>\n",
       "      <th>author</th>\n",
       "      <th>created_at</th>\n",
       "    </tr>\n",
       "  </thead>\n",
       "  <tbody>\n",
       "    <tr>\n",
       "      <th>0</th>\n",
       "      <td>12579008</td>\n",
       "      <td>You have two days to comment if you want stem ...</td>\n",
       "      <td>http://www.regulations.gov/document?D=FDA-2015...</td>\n",
       "      <td>1</td>\n",
       "      <td>0</td>\n",
       "      <td>altstar</td>\n",
       "      <td>9/26/2016 3:26</td>\n",
       "    </tr>\n",
       "    <tr>\n",
       "      <th>1</th>\n",
       "      <td>12579005</td>\n",
       "      <td>SQLAR  the SQLite Archiver</td>\n",
       "      <td>https://www.sqlite.org/sqlar/doc/trunk/README.md</td>\n",
       "      <td>1</td>\n",
       "      <td>0</td>\n",
       "      <td>blacksqr</td>\n",
       "      <td>9/26/2016 3:24</td>\n",
       "    </tr>\n",
       "    <tr>\n",
       "      <th>2</th>\n",
       "      <td>12578997</td>\n",
       "      <td>What if we just printed a flatscreen televisio...</td>\n",
       "      <td>https://medium.com/vanmoof/our-secrets-out-f21...</td>\n",
       "      <td>1</td>\n",
       "      <td>0</td>\n",
       "      <td>pavel_lishin</td>\n",
       "      <td>9/26/2016 3:19</td>\n",
       "    </tr>\n",
       "    <tr>\n",
       "      <th>3</th>\n",
       "      <td>12578989</td>\n",
       "      <td>algorithmic music</td>\n",
       "      <td>http://cacm.acm.org/magazines/2011/7/109891-al...</td>\n",
       "      <td>1</td>\n",
       "      <td>0</td>\n",
       "      <td>poindontcare</td>\n",
       "      <td>9/26/2016 3:16</td>\n",
       "    </tr>\n",
       "    <tr>\n",
       "      <th>4</th>\n",
       "      <td>12578979</td>\n",
       "      <td>How the Data Vault Enables the Next-Gen Data W...</td>\n",
       "      <td>https://www.talend.com/blog/2016/05/12/talend-...</td>\n",
       "      <td>1</td>\n",
       "      <td>0</td>\n",
       "      <td>markgainor1</td>\n",
       "      <td>9/26/2016 3:14</td>\n",
       "    </tr>\n",
       "  </tbody>\n",
       "</table>\n",
       "</div>"
      ],
      "text/plain": [
       "         id                                              title  \\\n",
       "0  12579008  You have two days to comment if you want stem ...   \n",
       "1  12579005                         SQLAR  the SQLite Archiver   \n",
       "2  12578997  What if we just printed a flatscreen televisio...   \n",
       "3  12578989                                  algorithmic music   \n",
       "4  12578979  How the Data Vault Enables the Next-Gen Data W...   \n",
       "\n",
       "                                                 url  num_points  \\\n",
       "0  http://www.regulations.gov/document?D=FDA-2015...           1   \n",
       "1   https://www.sqlite.org/sqlar/doc/trunk/README.md           1   \n",
       "2  https://medium.com/vanmoof/our-secrets-out-f21...           1   \n",
       "3  http://cacm.acm.org/magazines/2011/7/109891-al...           1   \n",
       "4  https://www.talend.com/blog/2016/05/12/talend-...           1   \n",
       "\n",
       "   num_comments        author      created_at  \n",
       "0             0       altstar  9/26/2016 3:26  \n",
       "1             0      blacksqr  9/26/2016 3:24  \n",
       "2             0  pavel_lishin  9/26/2016 3:19  \n",
       "3             0  poindontcare  9/26/2016 3:16  \n",
       "4             0   markgainor1  9/26/2016 3:14  "
      ]
     },
     "execution_count": 1,
     "metadata": {},
     "output_type": "execute_result"
    }
   ],
   "source": [
    "# Import library\n",
    "import pandas as pd\n",
    "\n",
    "# Read the data\n",
    "hn = pd.read_csv('hacker_news.csv')\n",
    "hn.head()"
   ]
  },
  {
   "cell_type": "code",
   "execution_count": 2,
   "metadata": {},
   "outputs": [
    {
     "name": "stdout",
     "output_type": "stream",
     "text": [
      "<class 'pandas.core.frame.DataFrame'>\n",
      "RangeIndex: 293119 entries, 0 to 293118\n",
      "Data columns (total 7 columns):\n",
      "id              293119 non-null int64\n",
      "title           293119 non-null object\n",
      "url             279256 non-null object\n",
      "num_points      293119 non-null int64\n",
      "num_comments    293119 non-null int64\n",
      "author          293119 non-null object\n",
      "created_at      293119 non-null object\n",
      "dtypes: int64(3), object(4)\n",
      "memory usage: 15.7+ MB\n",
      "\n",
      "The size of data: (293119, 7)\n"
     ]
    }
   ],
   "source": [
    "hn.info()\n",
    "print('\\nThe size of data:', hn.shape)"
   ]
  },
  {
   "cell_type": "markdown",
   "metadata": {},
   "source": [
    "# Cleaning of Data"
   ]
  },
  {
   "cell_type": "markdown",
   "metadata": {},
   "source": [
    "Observing the data, I will be using the columns which contains;\n",
    "\n",
    "1) The title of the post \n",
    "\n",
    "2) The number of points received for each post\n",
    "\n",
    "3) The number comments received for each post\n",
    "\n",
    "4) The author of each post\n",
    "\n",
    "5) The time created for each post\n",
    "\n",
    "Other columns containing id and url will be deleted"
   ]
  },
  {
   "cell_type": "code",
   "execution_count": 3,
   "metadata": {},
   "outputs": [
    {
     "data": {
      "text/html": [
       "<div>\n",
       "<style scoped>\n",
       "    .dataframe tbody tr th:only-of-type {\n",
       "        vertical-align: middle;\n",
       "    }\n",
       "\n",
       "    .dataframe tbody tr th {\n",
       "        vertical-align: top;\n",
       "    }\n",
       "\n",
       "    .dataframe thead th {\n",
       "        text-align: right;\n",
       "    }\n",
       "</style>\n",
       "<table border=\"1\" class=\"dataframe\">\n",
       "  <thead>\n",
       "    <tr style=\"text-align: right;\">\n",
       "      <th></th>\n",
       "      <th>title</th>\n",
       "      <th>num_points</th>\n",
       "      <th>num_comments</th>\n",
       "      <th>author</th>\n",
       "      <th>created_at</th>\n",
       "    </tr>\n",
       "  </thead>\n",
       "  <tbody>\n",
       "    <tr>\n",
       "      <th>0</th>\n",
       "      <td>You have two days to comment if you want stem ...</td>\n",
       "      <td>1</td>\n",
       "      <td>0</td>\n",
       "      <td>altstar</td>\n",
       "      <td>9/26/2016 3:26</td>\n",
       "    </tr>\n",
       "    <tr>\n",
       "      <th>1</th>\n",
       "      <td>SQLAR  the SQLite Archiver</td>\n",
       "      <td>1</td>\n",
       "      <td>0</td>\n",
       "      <td>blacksqr</td>\n",
       "      <td>9/26/2016 3:24</td>\n",
       "    </tr>\n",
       "    <tr>\n",
       "      <th>2</th>\n",
       "      <td>What if we just printed a flatscreen televisio...</td>\n",
       "      <td>1</td>\n",
       "      <td>0</td>\n",
       "      <td>pavel_lishin</td>\n",
       "      <td>9/26/2016 3:19</td>\n",
       "    </tr>\n",
       "    <tr>\n",
       "      <th>3</th>\n",
       "      <td>algorithmic music</td>\n",
       "      <td>1</td>\n",
       "      <td>0</td>\n",
       "      <td>poindontcare</td>\n",
       "      <td>9/26/2016 3:16</td>\n",
       "    </tr>\n",
       "    <tr>\n",
       "      <th>4</th>\n",
       "      <td>How the Data Vault Enables the Next-Gen Data W...</td>\n",
       "      <td>1</td>\n",
       "      <td>0</td>\n",
       "      <td>markgainor1</td>\n",
       "      <td>9/26/2016 3:14</td>\n",
       "    </tr>\n",
       "  </tbody>\n",
       "</table>\n",
       "</div>"
      ],
      "text/plain": [
       "                                               title  num_points  \\\n",
       "0  You have two days to comment if you want stem ...           1   \n",
       "1                         SQLAR  the SQLite Archiver           1   \n",
       "2  What if we just printed a flatscreen televisio...           1   \n",
       "3                                  algorithmic music           1   \n",
       "4  How the Data Vault Enables the Next-Gen Data W...           1   \n",
       "\n",
       "   num_comments        author      created_at  \n",
       "0             0       altstar  9/26/2016 3:26  \n",
       "1             0      blacksqr  9/26/2016 3:24  \n",
       "2             0  pavel_lishin  9/26/2016 3:19  \n",
       "3             0  poindontcare  9/26/2016 3:16  \n",
       "4             0   markgainor1  9/26/2016 3:14  "
      ]
     },
     "execution_count": 3,
     "metadata": {},
     "output_type": "execute_result"
    }
   ],
   "source": [
    "# Drop id and url column\n",
    "hn = hn.drop(['id','url'], axis=1)\n",
    "hn.head()"
   ]
  },
  {
   "cell_type": "markdown",
   "metadata": {},
   "source": [
    "The next thing I observe is the title column has both upper case and lower case values. I'll make the title column lower case to clean."
   ]
  },
  {
   "cell_type": "code",
   "execution_count": 4,
   "metadata": {},
   "outputs": [],
   "source": [
    "# Convert the title column lower case \n",
    "hn['title'] = hn['title'].str.lower()"
   ]
  },
  {
   "cell_type": "markdown",
   "metadata": {},
   "source": [
    "Finally, to realize the analysis, I need to convert 'created_at' column into datetime"
   ]
  },
  {
   "cell_type": "code",
   "execution_count": 5,
   "metadata": {},
   "outputs": [],
   "source": [
    "# Convert column into datetime\n",
    "date_format = \"%m/%d/%Y %H:%M\" # format of date to use datetime class\n",
    "hn['created_at'] = pd.to_datetime(hn['created_at'], format=date_format)"
   ]
  },
  {
   "cell_type": "markdown",
   "metadata": {},
   "source": [
    "# Grouping the Ask Post, Show Post and Other Posts"
   ]
  },
  {
   "cell_type": "markdown",
   "metadata": {},
   "source": [
    "Now, I will tag the posts based on their category and assign the label creating a new column called 'label'. We will perform it by checking whether the topic starts by \"ask hn\", \"show hn\" or none of these."
   ]
  },
  {
   "cell_type": "code",
   "execution_count": 6,
   "metadata": {},
   "outputs": [
    {
     "name": "stdout",
     "output_type": "stream",
     "text": [
      "Count of categories:\n",
      " label\n",
      "ask        9139\n",
      "other    273822\n",
      "show      10158\n",
      "Name: title, dtype: int64\n"
     ]
    }
   ],
   "source": [
    "# Function which labels the posts according to its category\n",
    "def tag(title):\n",
    "    if title.startswith('ask hn'):\n",
    "        return 'ask'\n",
    "    elif title.startswith('show hn'):\n",
    "        return 'show'\n",
    "    else:\n",
    "        return 'other'\n",
    "hn['label'] = hn['title'].apply(tag)\n",
    "print('Count of categories:\\n', hn.groupby('label').count()['title'])"
   ]
  },
  {
   "cell_type": "code",
   "execution_count": 7,
   "metadata": {},
   "outputs": [
    {
     "name": "stdout",
     "output_type": "stream",
     "text": [
      "An example row from ask post:\n",
      "title           ask hn: what tld do you use for local developm...\n",
      "num_points                                                      4\n",
      "num_comments                                                    7\n",
      "author                                                    Sevrene\n",
      "created_at                                    2016-09-26 02:53:00\n",
      "label                                                         ask\n",
      "Name: 10, dtype: object\n",
      "\n",
      "An example row from show post:\n",
      "title           show hn: finding puns computationally\n",
      "num_points                                          2\n",
      "num_comments                                        0\n",
      "author                                          saamm\n",
      "created_at                        2016-09-26 00:36:00\n",
      "label                                            show\n",
      "Name: 52, dtype: object\n",
      "\n",
      "An example row from other post:\n",
      "title           you have two days to comment if you want stem ...\n",
      "num_points                                                      1\n",
      "num_comments                                                    0\n",
      "author                                                    altstar\n",
      "created_at                                    2016-09-26 03:26:00\n",
      "label                                                       other\n",
      "Name: 0, dtype: object\n"
     ]
    }
   ],
   "source": [
    "# Example row for each type of post\n",
    "print('An example row from ask post:')\n",
    "print(hn[hn['label']=='ask'].iloc[0])\n",
    "\n",
    "print('\\nAn example row from show post:')\n",
    "print(hn[hn['label']=='show'].iloc[0])\n",
    "\n",
    "print('\\nAn example row from other post:')\n",
    "print(hn[hn['label']=='other'].iloc[0])"
   ]
  },
  {
   "cell_type": "markdown",
   "metadata": {},
   "source": [
    "# Average Number of Comments and points for Each Type of Post"
   ]
  },
  {
   "cell_type": "markdown",
   "metadata": {},
   "source": [
    "After the separation of data into groups, I will calculate the __average number of comments and points received__ for each type of post."
   ]
  },
  {
   "cell_type": "code",
   "execution_count": 8,
   "metadata": {
    "scrolled": false
   },
   "outputs": [
    {
     "name": "stdout",
     "output_type": "stream",
     "text": [
      "Average number of posts regarding types:\n"
     ]
    },
    {
     "data": {
      "text/html": [
       "<div>\n",
       "<style scoped>\n",
       "    .dataframe tbody tr th:only-of-type {\n",
       "        vertical-align: middle;\n",
       "    }\n",
       "\n",
       "    .dataframe tbody tr th {\n",
       "        vertical-align: top;\n",
       "    }\n",
       "\n",
       "    .dataframe thead th {\n",
       "        text-align: right;\n",
       "    }\n",
       "</style>\n",
       "<table border=\"1\" class=\"dataframe\">\n",
       "  <thead>\n",
       "    <tr style=\"text-align: right;\">\n",
       "      <th></th>\n",
       "      <th>num_points</th>\n",
       "      <th>num_comments</th>\n",
       "    </tr>\n",
       "    <tr>\n",
       "      <th>label</th>\n",
       "      <th></th>\n",
       "      <th></th>\n",
       "    </tr>\n",
       "  </thead>\n",
       "  <tbody>\n",
       "    <tr>\n",
       "      <th>ask</th>\n",
       "      <td>11.311741</td>\n",
       "      <td>10.393478</td>\n",
       "    </tr>\n",
       "    <tr>\n",
       "      <th>other</th>\n",
       "      <td>15.156010</td>\n",
       "      <td>6.457268</td>\n",
       "    </tr>\n",
       "    <tr>\n",
       "      <th>show</th>\n",
       "      <td>14.843572</td>\n",
       "      <td>4.886100</td>\n",
       "    </tr>\n",
       "  </tbody>\n",
       "</table>\n",
       "</div>"
      ],
      "text/plain": [
       "       num_points  num_comments\n",
       "label                          \n",
       "ask     11.311741     10.393478\n",
       "other   15.156010      6.457268\n",
       "show    14.843572      4.886100"
      ]
     },
     "execution_count": 8,
     "metadata": {},
     "output_type": "execute_result"
    }
   ],
   "source": [
    "# Average number of comments and points according to post type\n",
    "print('Average number of posts regarding types:')\n",
    "hn.groupby('label').mean()"
   ]
  },
  {
   "cell_type": "markdown",
   "metadata": {},
   "source": [
    "As shown above, the average quantity of comments of an ask post __(10.39)__ is about __2.5 times__ more than those of a show post __(4.89)__. The average quantity of comments of an other post __(6.40)__ is between those of ask post and show post.\n",
    "\n",
    "According to the result, the number of points received by show post and other post looks very close around __15__. Interestingly, the number of points received by other posts on average are __the most with 15.16__ whereas they receive __the second most__ comments among the types. Also, ask posts have __the least__ number of points received with ___11.31__ per post whereas they have __the most__ number of comments. \n",
    "\n",
    "This result looks normal because generally people tend to not like ask posts but to make comment. On the other hand, show posts are more likely to receive like than comment. "
   ]
  },
  {
   "cell_type": "markdown",
   "metadata": {},
   "source": [
    "# Average Number of Comments as well as Points for Each Type of Post by Hour Created"
   ]
  },
  {
   "cell_type": "markdown",
   "metadata": {},
   "source": [
    "Next, I will investigate if creating each type of post in a certain time will effect the number of comments received as well as points received."
   ]
  },
  {
   "cell_type": "code",
   "execution_count": 9,
   "metadata": {},
   "outputs": [],
   "source": [
    "# Extract hour from created_at column assigning to a new column\n",
    "def hr_func(t):\n",
    "    return t.hour\n",
    "hn['hour'] = hn['created_at'].apply(hr_func)"
   ]
  },
  {
   "cell_type": "code",
   "execution_count": 10,
   "metadata": {},
   "outputs": [
    {
     "name": "stdout",
     "output_type": "stream",
     "text": [
      "Average number of ask posts regarding hours created:\n"
     ]
    },
    {
     "data": {
      "text/html": [
       "<div>\n",
       "<style scoped>\n",
       "    .dataframe tbody tr th:only-of-type {\n",
       "        vertical-align: middle;\n",
       "    }\n",
       "\n",
       "    .dataframe tbody tr th {\n",
       "        vertical-align: top;\n",
       "    }\n",
       "\n",
       "    .dataframe thead th {\n",
       "        text-align: right;\n",
       "    }\n",
       "</style>\n",
       "<table border=\"1\" class=\"dataframe\">\n",
       "  <thead>\n",
       "    <tr style=\"text-align: right;\">\n",
       "      <th></th>\n",
       "      <th>num_points</th>\n",
       "      <th>num_comments</th>\n",
       "    </tr>\n",
       "    <tr>\n",
       "      <th>hour</th>\n",
       "      <th></th>\n",
       "      <th></th>\n",
       "    </tr>\n",
       "  </thead>\n",
       "  <tbody>\n",
       "    <tr>\n",
       "      <th>15</th>\n",
       "      <td>21.637771</td>\n",
       "      <td>28.676471</td>\n",
       "    </tr>\n",
       "    <tr>\n",
       "      <th>13</th>\n",
       "      <td>17.932432</td>\n",
       "      <td>16.317568</td>\n",
       "    </tr>\n",
       "    <tr>\n",
       "      <th>12</th>\n",
       "      <td>13.576023</td>\n",
       "      <td>12.380117</td>\n",
       "    </tr>\n",
       "    <tr>\n",
       "      <th>2</th>\n",
       "      <td>10.944238</td>\n",
       "      <td>11.137546</td>\n",
       "    </tr>\n",
       "    <tr>\n",
       "      <th>10</th>\n",
       "      <td>13.436170</td>\n",
       "      <td>10.684397</td>\n",
       "    </tr>\n",
       "  </tbody>\n",
       "</table>\n",
       "</div>"
      ],
      "text/plain": [
       "      num_points  num_comments\n",
       "hour                          \n",
       "15     21.637771     28.676471\n",
       "13     17.932432     16.317568\n",
       "12     13.576023     12.380117\n",
       "2      10.944238     11.137546\n",
       "10     13.436170     10.684397"
      ]
     },
     "execution_count": 10,
     "metadata": {},
     "output_type": "execute_result"
    }
   ],
   "source": [
    "# Top 5 hours for the average number of comments and points of ask posts\n",
    "print('Average number of ask posts regarding hours created:')\n",
    "hn.groupby(['label', 'hour']).mean().loc['ask'].sort_values(by='num_comments', ascending=False).head()"
   ]
  },
  {
   "cell_type": "markdown",
   "metadata": {},
   "source": [
    "According to the top 5 ask posts, the hour that receives the most comments per post with 28.68 is between __15:00 - 16:00__. Average number of comments received for ask post in 15:00 is __75%__ more than average number of comments received with 16.32 in 13:00. The other common thing among hours is the top 3 is right after the noon and almost consequtive hours. \n",
    "\n",
    "Also, comparing the hours when average number of points and comments received in ask posts, the top three hours which are __15:00__ with 21.64 points per post, __13:00__ with 17.93 points per post and __12:00__ with 13.58 points per post, are the same proving that those hours are the best hours to create ask posts to maximize points and comments received."
   ]
  },
  {
   "cell_type": "code",
   "execution_count": 11,
   "metadata": {},
   "outputs": [
    {
     "name": "stdout",
     "output_type": "stream",
     "text": [
      "Average number of show posts regarding hours created:\n"
     ]
    },
    {
     "data": {
      "text/html": [
       "<div>\n",
       "<style scoped>\n",
       "    .dataframe tbody tr th:only-of-type {\n",
       "        vertical-align: middle;\n",
       "    }\n",
       "\n",
       "    .dataframe tbody tr th {\n",
       "        vertical-align: top;\n",
       "    }\n",
       "\n",
       "    .dataframe thead th {\n",
       "        text-align: right;\n",
       "    }\n",
       "</style>\n",
       "<table border=\"1\" class=\"dataframe\">\n",
       "  <thead>\n",
       "    <tr style=\"text-align: right;\">\n",
       "      <th></th>\n",
       "      <th>num_points</th>\n",
       "      <th>num_comments</th>\n",
       "    </tr>\n",
       "    <tr>\n",
       "      <th>hour</th>\n",
       "      <th></th>\n",
       "      <th></th>\n",
       "    </tr>\n",
       "  </thead>\n",
       "  <tbody>\n",
       "    <tr>\n",
       "      <th>12</th>\n",
       "      <td>20.905039</td>\n",
       "      <td>6.994186</td>\n",
       "    </tr>\n",
       "    <tr>\n",
       "      <th>7</th>\n",
       "      <td>13.995763</td>\n",
       "      <td>6.682203</td>\n",
       "    </tr>\n",
       "    <tr>\n",
       "      <th>11</th>\n",
       "      <td>19.258706</td>\n",
       "      <td>6.002488</td>\n",
       "    </tr>\n",
       "    <tr>\n",
       "      <th>8</th>\n",
       "      <td>14.683544</td>\n",
       "      <td>5.604430</td>\n",
       "    </tr>\n",
       "    <tr>\n",
       "      <th>14</th>\n",
       "      <td>15.090517</td>\n",
       "      <td>5.515805</td>\n",
       "    </tr>\n",
       "  </tbody>\n",
       "</table>\n",
       "</div>"
      ],
      "text/plain": [
       "      num_points  num_comments\n",
       "hour                          \n",
       "12     20.905039      6.994186\n",
       "7      13.995763      6.682203\n",
       "11     19.258706      6.002488\n",
       "8      14.683544      5.604430\n",
       "14     15.090517      5.515805"
      ]
     },
     "execution_count": 11,
     "metadata": {},
     "output_type": "execute_result"
    }
   ],
   "source": [
    "# Top 5 hours for the average number of comments and points of show posts\n",
    "print('Average number of show posts regarding hours created:')\n",
    "hn.groupby(['label', 'hour']).mean().loc['show'].sort_values(by='num_comments', ascending=False).head()"
   ]
  },
  {
   "cell_type": "markdown",
   "metadata": {},
   "source": [
    "According to the top 5 show posts, the top hour that receives the most comments per post with 6.99 is between __12:00 - 13:00__. However, there is no crucial difference among top 5 hours based on the number of comments received per show post.\n",
    "\n",
    "When we look at the top 5 hours that the most points received, between __12:00 and 13:00__ with 20.91 points per post is also the best to receive the most points as comments for the show post. There is also another common hour, which one of the most points and comments received, in show post which is __11:00__ with 19.26 points per post. "
   ]
  },
  {
   "cell_type": "code",
   "execution_count": 12,
   "metadata": {
    "scrolled": true
   },
   "outputs": [
    {
     "name": "stdout",
     "output_type": "stream",
     "text": [
      "Average number of other posts regarding hours created:\n"
     ]
    },
    {
     "data": {
      "text/html": [
       "<div>\n",
       "<style scoped>\n",
       "    .dataframe tbody tr th:only-of-type {\n",
       "        vertical-align: middle;\n",
       "    }\n",
       "\n",
       "    .dataframe tbody tr th {\n",
       "        vertical-align: top;\n",
       "    }\n",
       "\n",
       "    .dataframe thead th {\n",
       "        text-align: right;\n",
       "    }\n",
       "</style>\n",
       "<table border=\"1\" class=\"dataframe\">\n",
       "  <thead>\n",
       "    <tr style=\"text-align: right;\">\n",
       "      <th></th>\n",
       "      <th>num_points</th>\n",
       "      <th>num_comments</th>\n",
       "    </tr>\n",
       "    <tr>\n",
       "      <th>hour</th>\n",
       "      <th></th>\n",
       "      <th></th>\n",
       "    </tr>\n",
       "  </thead>\n",
       "  <tbody>\n",
       "    <tr>\n",
       "      <th>12</th>\n",
       "      <td>16.699394</td>\n",
       "      <td>7.585214</td>\n",
       "    </tr>\n",
       "    <tr>\n",
       "      <th>11</th>\n",
       "      <td>16.292903</td>\n",
       "      <td>7.374144</td>\n",
       "    </tr>\n",
       "    <tr>\n",
       "      <th>2</th>\n",
       "      <td>16.712054</td>\n",
       "      <td>7.180737</td>\n",
       "    </tr>\n",
       "    <tr>\n",
       "      <th>13</th>\n",
       "      <td>16.017749</td>\n",
       "      <td>7.146833</td>\n",
       "    </tr>\n",
       "    <tr>\n",
       "      <th>5</th>\n",
       "      <td>15.697319</td>\n",
       "      <td>6.786840</td>\n",
       "    </tr>\n",
       "  </tbody>\n",
       "</table>\n",
       "</div>"
      ],
      "text/plain": [
       "      num_points  num_comments\n",
       "hour                          \n",
       "12     16.699394      7.585214\n",
       "11     16.292903      7.374144\n",
       "2      16.712054      7.180737\n",
       "13     16.017749      7.146833\n",
       "5      15.697319      6.786840"
      ]
     },
     "execution_count": 12,
     "metadata": {},
     "output_type": "execute_result"
    }
   ],
   "source": [
    "# Top 5 hours for the average number of comments and points of other posts\n",
    "print('Average number of other posts regarding hours created:')\n",
    "hn.groupby(['label', 'hour']).mean().loc['other'].sort_values(by='num_comments', ascending=False).head()"
   ]
  },
  {
   "cell_type": "markdown",
   "metadata": {},
   "source": [
    "According to the top 5 other posts, the hour that receives the most comments per post with 7.59 is between __12:00 - 13:00__. However, there is no crucial difference among the top 5 hours based on the average number of comments received. Interestingly, we observe that the hour that receives most comment per other post which is __12:00__ is the same for show post. Also, between show post and other post, there is no significant difference in the average number of comments received regarding hours.\n",
    "\n",
    "Among top 5 hours that receives the most points for other post, the average quantites lies around __16__ and __doesn't change much__.\n",
    "\n",
    "In addition to that, there is a significant difference in amount of comments received per post between ask posts and other types of posts comparing the top hour that receives the most comment; __310%__ more than show post, __278%__ more than other post. \n",
    "\n",
    "__12:00__ is the most common time in the top three hour among different types of post regarding the highest average number of comments as well as points received.\n",
    "\n",
    "Furthermore, comparing the most points received in the top hour among the post types, ask post and show post are very close to each other and approximately __30%__ more than those of other post."
   ]
  },
  {
   "cell_type": "markdown",
   "metadata": {},
   "source": [
    "# Finding the Type of Posts in Top 1000 / 100 / 50 / 10 Comments and Points "
   ]
  },
  {
   "cell_type": "markdown",
   "metadata": {},
   "source": [
    "Finally, I will find the number of post types which are in __top 1000 / 100 / 50 / 10__ based on number of comments and points received.\n",
    "\n",
    "I will sort the whole data descending regarding comments as well as points. Then, I will investigate top 1000, 100, 50 and 10 and find how many post types there are."
   ]
  },
  {
   "cell_type": "code",
   "execution_count": 13,
   "metadata": {},
   "outputs": [
    {
     "name": "stdout",
     "output_type": "stream",
     "text": [
      "Top 10 comments: label\n",
      "ask      4\n",
      "other    6\n",
      "Name: title, dtype: int64 \n",
      "\n",
      "Top 10 points: label\n",
      "other    10\n",
      "Name: title, dtype: int64 \n",
      "\n",
      "Top 50 comments: label\n",
      "ask      17\n",
      "other    33\n",
      "Name: title, dtype: int64 \n",
      "\n",
      "Top 50 points: label\n",
      "other    49\n",
      "show      1\n",
      "Name: title, dtype: int64 \n",
      "\n",
      "Top 100 comments: label\n",
      "ask      19\n",
      "other    81\n",
      "Name: title, dtype: int64 \n",
      "\n",
      "Top 100 points: label\n",
      "ask       1\n",
      "other    96\n",
      "show      3\n",
      "Name: title, dtype: int64 \n",
      "\n",
      "Top 1000 comments: label\n",
      "ask       44\n",
      "other    950\n",
      "show       6\n",
      "Name: title, dtype: int64 \n",
      "\n",
      "Top 1000 points: label\n",
      "ask       21\n",
      "other    955\n",
      "show      24\n",
      "Name: title, dtype: int64 \n",
      "\n"
     ]
    }
   ],
   "source": [
    "top_n = [10, 50, 100, 1000] # Top n post\n",
    "comment_or_point = ['num_comments', 'num_points'] # For sorting the posts\n",
    "for n in top_n:\n",
    "    for value in comment_or_point:\n",
    "        title = 'Top {} {}:'\n",
    "        print(title.format(n, value.split('_')[1]), hn.sort_values(by=value, ascending=False).head(n).groupby('label').count()['title'], '\\n')"
   ]
  },
  {
   "cell_type": "markdown",
   "metadata": {},
   "source": [
    "I observe that in top comments, ask posts are always more than show posts whereas in top points, except top 10, show posts are always more than ask posts. Among 293,119 post, there are 4 ask posts (__40%__ of top 10 comments) but no show post in top 10 also, 17 ask posts (__34%__ of top 50 comments) in top 50 comments which shows the power of good questions. Therefore, I can say that ask questions receive mostly comments whereas show posts receive mostly points even there are only __3__ show posts in top 100 points."
   ]
  },
  {
   "cell_type": "markdown",
   "metadata": {},
   "source": [
    "# Conclusion"
   ]
  },
  {
   "cell_type": "markdown",
   "metadata": {},
   "source": [
    "In this project, I analyzed the number of comments and points which posts receive submitted on [Hacker News](https://news.ycombinator.com) based on post type (ask, show or other) and post submission time. Additionally, I analyzed the type of top 10, 50, 100 and 1000 posts among 293,119 posts based on number of received comments and points.\n",
    "\n",
    "Based on the analysis, to maximize the number of comment as well as point a post receives, I recommend to submit an __ask post__ __between 15:00 and 16:00__. However, in general, to get more points on average for your post, submitting a __show post__ is a better option.\n",
    "\n",
    "For other posts, submission time is __not significant__ on the number of comments or points a post recieved whereas for ask posts, I directly observe a __significant change__ on the number of comments or points a post recieved. \n",
    "\n",
    "For each post type, submitting a post at __12:00__ is in the top 5 hours where maximize the average number of comments and points received.\n",
    "\n",
    "In top 100 posts where the most points or comments received, there are only __3 show posts__ but for ask posts this number is __20 (19 for top comments and 1 for top points)__ which is almost __7 times__ of number of show posts."
   ]
  }
 ],
 "metadata": {
  "kernelspec": {
   "display_name": "Python 3",
   "language": "python",
   "name": "python3"
  },
  "language_info": {
   "codemirror_mode": {
    "name": "ipython",
    "version": 3
   },
   "file_extension": ".py",
   "mimetype": "text/x-python",
   "name": "python",
   "nbconvert_exporter": "python",
   "pygments_lexer": "ipython3",
   "version": "3.7.3"
  }
 },
 "nbformat": 4,
 "nbformat_minor": 2
}
